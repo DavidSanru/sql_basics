{
 "cells": [
  {
   "cell_type": "markdown",
   "id": "5eee586d",
   "metadata": {},
   "source": [
    "QUERIE 1"
   ]
  },
  {
   "cell_type": "code",
   "execution_count": null,
   "id": "f226bfd0",
   "metadata": {},
   "outputs": [],
   "source": [
    "querie = '''SELECT DISTINCT Persona.Nombre_persona\n",
    "FROM Persona\n",
    "INNER JOIN Participa ON Persona.Nombre_persona = Participa.Nombre_persona\n",
    "ORDER BY Persona.Nombre_persona;'''"
   ]
  },
  {
   "cell_type": "markdown",
   "id": "5841ef65",
   "metadata": {},
   "source": [
    "QUERIE 2"
   ]
  },
  {
   "cell_type": "code",
   "execution_count": null,
   "id": "4b47b693",
   "metadata": {},
   "outputs": [],
   "source": [
    "querie = '''SELECT COUNT(*) AS Total_Juegos\n",
    "FROM Juego_Mesa;'''"
   ]
  },
  {
   "cell_type": "markdown",
   "id": "744ddbaf",
   "metadata": {},
   "source": [
    "QUERIE 4"
   ]
  },
  {
   "cell_type": "code",
   "execution_count": null,
   "id": "a19be396",
   "metadata": {},
   "outputs": [],
   "source": [
    "querie = '''SELECT *\n",
    "FROM Partida\n",
    "WHERE Fecha BETWEEN '2023-01-01' AND '2023-01-30'\n",
    "ORDER BY Fecha, Hora;'''"
   ]
  },
  {
   "cell_type": "markdown",
   "id": "04aefa9c",
   "metadata": {},
   "source": [
    "QUERIE 5"
   ]
  },
  {
   "cell_type": "code",
   "execution_count": null,
   "id": "c4184ea2",
   "metadata": {},
   "outputs": [],
   "source": [
    "querie = '''SELECT DISTINCT Juego_Mesa.Nombre_juego, Expansion.Nombre_expansion\n",
    "FROM Juego_Mesa\n",
    "LEFT JOIN Partida ON Juego_Mesa.Nombre_juego = Partida.Nombre_juego\n",
    "LEFT JOIN Utiliza ON Partida.ID_partida = Utiliza.ID_partida\n",
    "LEFT JOIN Expansion ON Utiliza.Nombre_expansion = Expansion.Nombre_expansion\n",
    "ORDER BY Juego_Mesa.Nombre_juego;'''"
   ]
  },
  {
   "cell_type": "markdown",
   "id": "b9d69bbe",
   "metadata": {},
   "source": [
    "QUERIE 6 "
   ]
  },
  {
   "cell_type": "code",
   "execution_count": null,
   "id": "a0fa9467",
   "metadata": {},
   "outputs": [],
   "source": [
    "querie = '''SELECT Partida.ID_partida, Partida.Fecha, Partida.Hora, \n",
    "Partida.Nombre_juego, Partida.Resultado, Partida.Supervisor\n",
    "FROM Partida\n",
    "ORDER BY Partida.Fecha, Partida.Hora;'''"
   ]
  },
  {
   "cell_type": "markdown",
   "id": "3bad98f9",
   "metadata": {},
   "source": [
    "QUERIE 8"
   ]
  },
  {
   "cell_type": "code",
   "execution_count": null,
   "id": "59697267",
   "metadata": {},
   "outputs": [],
   "source": [
    "querie = '''SELECT Supervisor\n",
    "FROM club_videojuegos.Partida\n",
    "GROUP BY Supervisor\n",
    "HAVING COUNT(DISTINCT Nombre_juego) > 3;'''"
   ]
  },
  {
   "cell_type": "markdown",
   "id": "bc0238ef",
   "metadata": {},
   "source": [
    "QUERIE 9"
   ]
  },
  {
   "cell_type": "code",
   "execution_count": null,
   "id": "bcf106e8",
   "metadata": {},
   "outputs": [],
   "source": [
    "querie = '''SELECT Nombre_persona\n",
    "FROM club_videojuegos.Participa\n",
    "GROUP BY Nombre_persona\n",
    "ORDER BY COUNT(ID_partida) DESC\n",
    "LIMIT 1;\n",
    "'''"
   ]
  },
  {
   "cell_type": "markdown",
   "id": "11056eba",
   "metadata": {},
   "source": [
    "QUERIE 12"
   ]
  },
  {
   "cell_type": "code",
   "execution_count": null,
   "id": "f7c6e96a",
   "metadata": {},
   "outputs": [],
   "source": [
    "querie = '''SELECT Supervisor\n",
    "FROM club_videojuegos.Partida\n",
    "JOIN club_videojuegos.Utiliza ON Partida.ID_partida = Utiliza.ID_partida\n",
    "JOIN club_videojuegos.Copia_Expansion ON Utiliza.ID_copia_expansion = Copia_Expansion.ID_copia_expansion\n",
    "WHERE Partida.Supervisor IS NOT NULL\n",
    "GROUP BY Supervisor, Partida.ID_partida\n",
    "HAVING SUM(CASE WHEN Utiliza.Nombre_expansion = 'Modo Blitz' THEN 1 ELSE 0 END) > 0\n",
    "   AND SUM(CASE WHEN Utiliza.Nombre_expansion = 'Edición Limitada' THEN 1 ELSE 0 END) = 0; '''"
   ]
  },
  {
   "cell_type": "markdown",
   "id": "5873c54b",
   "metadata": {},
   "source": [
    "QUERIE 13"
   ]
  },
  {
   "cell_type": "code",
   "execution_count": null,
   "id": "27bc0131",
   "metadata": {},
   "outputs": [],
   "source": [
    "querie = '''SELECT DISTINCT Participa.Nombre_persona\n",
    "FROM club_videojuegos.Participa\n",
    "JOIN club_videojuegos.Partida ON Participa.ID_partida = Partida.ID_partida\n",
    "WHERE Partida.Nombre_juego = 'Catan'\n",
    "AND Participa.Nombre_persona IN (\n",
    "    SELECT Nombre_persona\n",
    "    FROM club_videojuegos.Participa\n",
    "    JOIN club_videojuegos.Partida ON Participa.ID_partida = Partida.ID_partida\n",
    "    WHERE Partida.Nombre_juego = 'Ticket to Ride'\n",
    ")\n",
    "ORDER BY Participa.Nombre_persona; '''"
   ]
  },
  {
   "cell_type": "markdown",
   "id": "4ad2e052",
   "metadata": {},
   "source": [
    "QUERIE 15"
   ]
  },
  {
   "cell_type": "code",
   "execution_count": null,
   "id": "4b6ba841",
   "metadata": {},
   "outputs": [],
   "source": [
    "querie = '''SELECT DISTINCT Participa.Nombre_persona\n",
    "FROM club_videojuegos.Participa\n",
    "JOIN club_videojuegos.Partida ON Participa.ID_partida = Partida.ID_partida\n",
    "JOIN club_videojuegos.Utiliza ON Partida.ID_partida = Utiliza.ID_partida\n",
    "JOIN club_videojuegos.Copia_Expansion ON Utiliza.ID_copia_expansion = Copia_Expansion.ID_copia_expansion\n",
    "WHERE Partida.Nombre_juego = 'Ajedrez'\n",
    "GROUP BY Participa.Nombre_persona, Partida.ID_partida\n",
    "HAVING SUM(Copia_Expansion.Precio_copia_expansion) < 55; '''"
   ]
  }
 ],
 "metadata": {
  "language_info": {
   "name": "python"
  }
 },
 "nbformat": 4,
 "nbformat_minor": 5
}
