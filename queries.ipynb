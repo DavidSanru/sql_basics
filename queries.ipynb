{
 "cells": [
  {
   "cell_type": "markdown",
   "id": "5eee586d",
   "metadata": {},
   "source": [
    "QUERIE 1"
   ]
  },
  {
   "cell_type": "code",
   "execution_count": null,
   "id": "f226bfd0",
   "metadata": {},
   "outputs": [],
   "source": [
    "querie = '''SELECT DISTINCT Persona.Nombre_persona\n",
    "FROM Persona\n",
    "INNER JOIN Participa ON Persona.Nombre_persona = Participa.Nombre_persona\n",
    "ORDER BY Persona.Nombre_persona;'''"
   ]
  },
  {
   "cell_type": "markdown",
   "id": "5841ef65",
   "metadata": {},
   "source": [
    "QUERIE 2"
   ]
  },
  {
   "cell_type": "code",
   "execution_count": null,
   "id": "4b47b693",
   "metadata": {},
   "outputs": [],
   "source": [
    "querie = '''SELECT COUNT(*) AS Total_Juegos\n",
    "FROM Juego_Mesa;'''"
   ]
  },
  {
   "cell_type": "markdown",
   "id": "744ddbaf",
   "metadata": {},
   "source": [
    "QUERIE 4"
   ]
  },
  {
   "cell_type": "code",
   "execution_count": null,
   "id": "a19be396",
   "metadata": {},
   "outputs": [],
   "source": [
    "querie = '''SELECT *\n",
    "FROM Partida\n",
    "WHERE Fecha BETWEEN '2023-01-01' AND '2023-01-30'\n",
    "ORDER BY Fecha, Hora;'''"
   ]
  },
  {
   "cell_type": "markdown",
   "id": "04aefa9c",
   "metadata": {},
   "source": [
    "QUERIE 5"
   ]
  },
  {
   "cell_type": "code",
   "execution_count": null,
   "id": "c4184ea2",
   "metadata": {},
   "outputs": [],
   "source": [
    "querie = '''SELECT DISTINCT Juego_Mesa.Nombre_juego, Expansion.Nombre_expansion\n",
    "FROM Juego_Mesa\n",
    "LEFT JOIN Partida ON Juego_Mesa.Nombre_juego = Partida.Nombre_juego\n",
    "LEFT JOIN Utiliza ON Partida.ID_partida = Utiliza.ID_partida\n",
    "LEFT JOIN Expansion ON Utiliza.Nombre_expansion = Expansion.Nombre_expansion\n",
    "ORDER BY Juego_Mesa.Nombre_juego;'''"
   ]
  },
  {
   "cell_type": "markdown",
   "id": "b9d69bbe",
   "metadata": {},
   "source": [
    "QUERIE 6 "
   ]
  },
  {
   "cell_type": "code",
   "execution_count": null,
   "id": "a0fa9467",
   "metadata": {},
   "outputs": [],
   "source": [
    "querie = '''SELECT Partida.ID_partida, Partida.Fecha, Partida.Hora, \n",
    "Partida.Nombre_juego, Partida.Resultado, Partida.Supervisor\n",
    "FROM Partida\n",
    "ORDER BY Partida.Fecha, Partida.Hora;'''"
   ]
  }
 ],
 "metadata": {
  "language_info": {
   "name": "python"
  }
 },
 "nbformat": 4,
 "nbformat_minor": 5
}
