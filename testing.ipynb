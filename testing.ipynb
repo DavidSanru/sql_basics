{
 "cells": [
  {
   "cell_type": "markdown",
   "id": "a510592a",
   "metadata": {},
   "source": [
    "### TRIGGERS"
   ]
  },
  {
   "cell_type": "markdown",
   "id": "b070d162",
   "metadata": {},
   "source": [
    "### 1. conflicto_horario_supervisor_insert"
   ]
  },
  {
   "cell_type": "code",
   "execution_count": null,
   "id": "c0464dcc",
   "metadata": {},
   "outputs": [],
   "source": [
    "'''INSERT INTO Persona (Nombre_persona) VALUES ('María');\n",
    "-- Insertamos una partida con un supervisor\n",
    "INSERT INTO Partida VALUES (06262626, 'Test Partida', '15:00:00', '2025-05-10', 'Catan', 1, 'María');\n",
    "\n",
    "-- Intentamos insertar otra con el mismo supervisor, misma hora y fecha\n",
    "INSERT INTO Partida VALUES (06262627, 'Partida Conflicto', '15:00:00', '2025-05-10', 'Catan', 2, 'María');\n"'''"
   ]
  },
  {
   "cell_type": "markdown",
   "id": "65a488c4",
   "metadata": {},
   "source": [
    "### 2. conflicto_horario_jugador_insert"
   ]
  },
  {
   "cell_type": "code",
   "execution_count": null,
   "id": "cf322f23",
   "metadata": {},
   "outputs": [],
   "source": [
    "'''\n",
    "INSERT INTO Persona (Nombre_persona) VALUES ('Carlos'),('Ana'), ('María'),('Luis');\n",
    "INSERT INTO Partida (ID_partida, Resultado, Hora, Fecha, Nombre_juego, ID_copia_juego, Supervisor)\n",
    "VALUES \n",
    "(50001, 'Luis', '14:44', '2025-05-07', 'Scythe', 10, 'Carlos'),\n",
    "(50002, 'Luis', '14:44', '2025-05-07', 'Catan', 8, 'Ana'),\n",
    "INSERT INTO Participa (ID_partida, Nombre_persona, es_ganador)\n",
    "VALUES (50001, 'María', FALSE);\n",
    "INSERT INTO Participa (ID_partida, Nombre_persona, es_ganador)\n",
    "VALUES (50002, 'María', FALSE);\n",
    "'''"
   ]
  },
  {
   "cell_type": "markdown",
   "id": "773e0709",
   "metadata": {},
   "source": [
    "### 3. integridad_juego_delete"
   ]
  },
  {
   "cell_type": "code",
   "execution_count": null,
   "id": "f764977b",
   "metadata": {},
   "outputs": [],
   "source": [
    "'''\n",
    "DELETE FROM Juego_Mesa WHERE Nombre_juego = 'Catan'; \n",
    "'''"
   ]
  },
  {
   "cell_type": "markdown",
   "id": "3bcfefa9",
   "metadata": {},
   "source": [
    "### 4. disponibilidad_juego_y_expansiones"
   ]
  },
  {
   "cell_type": "code",
   "execution_count": null,
   "id": "f5f6ce44",
   "metadata": {},
   "outputs": [],
   "source": [
    "'''\n",
    "INSERT INTO Partida VALUES (06262641, 'Ana', '15:00:00', '2025-06-10', 'Catan', 1, 'María');\n",
    "INSERT INTO Partida VALUES (06262640, 'Carlos', '15:00:00', '2025-06-10', 'Catan', 1, 'Luis');\n",
    "'''"
   ]
  },
  {
   "cell_type": "markdown",
   "id": "8cd6b93f",
   "metadata": {},
   "source": [
    "### 5. disponibilidad_expansiones_insert"
   ]
  },
  {
   "cell_type": "code",
   "execution_count": null,
   "id": "88c433ae",
   "metadata": {},
   "outputs": [],
   "source": [
    "'''\n",
    "INSERT INTO Expansion VALUES ('Expansión de Prueba');\n",
    "\n",
    "INSERT INTO Copia_Expansion VALUES (99, 19.99, 'Expansión de Prueba');\n",
    "\n",
    "INSERT INTO Utiliza VALUES (732, 'Expansión de Prueba', 99);\n",
    "\n",
    "INSERT INTO Utiliza VALUES (1413, 'Expansión de Prueba', 99);'''"
   ]
  },
  {
   "cell_type": "markdown",
   "id": "6c4c9153",
   "metadata": {},
   "source": [
    "## Procedures"
   ]
  },
  {
   "cell_type": "markdown",
   "id": "2587a294",
   "metadata": {},
   "source": [
    "### 1. registro_jugador"
   ]
  },
  {
   "cell_type": "code",
   "execution_count": null,
   "id": "bde8a912",
   "metadata": {},
   "outputs": [],
   "source": [
    "test = '''USE club_videojuegos;\n",
    "CALL registro_jugador(\n",
    "    CONCAT('Jugador_Test_', FLOOR(RAND()*1000)), -- Nombre aleatorio\n",
    "    'Catan',\n",
    "    1,\n",
    "    'Juan'\n",
    ");\n",
    "\n",
    "SELECT * FROM Persona \n",
    "WHERE Nombre_persona LIKE 'Jugador_Test_%' \n",
    "ORDER BY Nombre_persona DESC \n",
    "LIMIT 1;\n",
    "\n",
    "SELECT * FROM Partida \n",
    "ORDER BY ID_partida DESC \n",
    "LIMIT 1;\n",
    "\n",
    "SELECT * FROM Participa \n",
    "WHERE Nombre_persona LIKE 'Jugador_Test_%' \n",
    "ORDER BY ID_partida DESC \n",
    "LIMIT 1;'''"
   ]
  },
  {
   "cell_type": "markdown",
   "id": "961062c0",
   "metadata": {},
   "source": [
    "### 2. listar_juegos_expansiones\n",
    "\n",
    "No tiene test como tal, simplemente hace una tabla de los juegos con sus expansiones"
   ]
  },
  {
   "cell_type": "code",
   "execution_count": null,
   "id": "53968114",
   "metadata": {},
   "outputs": [],
   "source": [
    "test  = '''\n",
    "CALL listar_juegos_expansiones();'''"
   ]
  }
 ],
 "metadata": {
  "kernelspec": {
   "display_name": "Python 3",
   "language": "python",
   "name": "python3"
  },
  "language_info": {
   "name": "python",
   "version": "3.12.6"
  }
 },
 "nbformat": 4,
 "nbformat_minor": 5
}
